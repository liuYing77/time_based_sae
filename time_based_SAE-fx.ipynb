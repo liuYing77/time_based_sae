{
 "metadata": {
  "kernelspec": {
   "display_name": "Python 2",
   "language": "python",
   "name": "python2"
  },
  "language_info": {
   "codemirror_mode": {
    "name": "ipython",
    "version": 2
   },
   "file_extension": ".py",
   "mimetype": "text/x-python",
   "name": "python",
   "nbconvert_exporter": "python",
   "pygments_lexer": "ipython2",
   "version": "2.7.6"
  },
  "name": "",
  "signature": "sha256:0a348decf910afc2145f1a2f5947f78bd95264b958902fed24496a96f73dd11c"
 },
 "nbformat": 3,
 "nbformat_minor": 0,
 "worksheets": [
  {
   "cells": [
    {
     "cell_type": "code",
     "collapsed": true,
     "input": [
      "%matplotlib inline\n",
      "import numpy as np\n",
      "import matplotlib.pyplot as plt\n",
      "import matplotlib.cm as cm\n",
      "import random\n",
      "import math\n",
      "\n",
      "import pickle\n",
      "import os"
     ],
     "language": "python",
     "metadata": {},
     "outputs": [],
     "prompt_number": 1
    },
    {
     "cell_type": "code",
     "collapsed": false,
     "input": [
      "v_t = np.float32\n",
      "spk_t = np.int16\n",
      "\n",
      "class LIF(object):\n",
      "    def __init__(self, description):\n",
      "        self._params = description['params']\n",
      "        self._size   = description['size']\n",
      "        self._v      = np.zeros((self._size, 1), dtype=v_t)\n",
      "        self._spikes = np.zeros((self._size, 1), dtype=spk_t)\n",
      "        self._dv     = np.exp(-1./self._params['tau_m'])\n",
      "        \n",
      "        self.reset()\n",
      "        \n",
      "    def reset(self):\n",
      "        self._v[:] = self._params['v_rest']\n",
      "        self._spikes[:] = 0\n",
      "\n",
      "    def sim(self, t):\n",
      "        self._v *= self._dv\n",
      "        \n",
      "        self._spikes[:] = 0\n",
      "        spiked = np.where(self._v > self.params['v_thresh'])[0]\n",
      "        self._spikes[spiked, 0] = 1\n",
      "\n",
      "        self._v[spiked, 0] = v_rest \n",
      "\n",
      "class SpikeIn(object):\n",
      "    def __init__(self, description):\n",
      "        self._size = description['size']\n",
      "        self._spikes = np.zeros((self._size, 1), dtype=spk_t)\n",
      "        self._times = self._parse_description(description)\n",
      "    \n",
      "    def _parse_description(self, d):\n",
      "        times = {}\n",
      "        for i in range(self._size):\n",
      "            for t in d['spike_times'][i]:\n",
      "                if t not in times:\n",
      "                    times[t] = [i]\n",
      "                else:\n",
      "                    times[t].append(i)\n",
      "        \n",
      "        return times\n",
      "\n",
      "    def sim(self, t):\n",
      "        self._spikes[:] = 0\n",
      "        self._spikes[self.times[t], 0] = 1\n",
      "        return self._spikes\n",
      "\n",
      "class Layer(object):\n",
      "    def __init__(self, description):\n",
      "        if description['level'] == 0:\n",
      "            self._in = SpikeIn({'size': description['sizes']['in'], \\\n",
      "                                'spike_times': description['in_times']})\n",
      "            \n",
      "        else:\n",
      "            self._in = LIF({'size': description['sizes']['in'], \\\n",
      "                            'params': description['neuron_params']})\n",
      "        \n",
      "        self._hid = LIF({'size': description['sizes']['hid'], \\\n",
      "                         'params': description['neuron_params']})\n",
      "        \n",
      "        self._rcn = LIF({'size': description['sizes']['in'], \\\n",
      "                         'params': description['neuron_params']})\n",
      "\n",
      "class Simulator(object):\n",
      "    "
     ],
     "language": "python",
     "metadata": {},
     "outputs": []
    },
    {
     "cell_type": "code",
     "collapsed": true,
     "input": [
      "np.random.seed(10)\n",
      "\n",
      "# #network configuraiton\n",
      "# v_size = 21\n",
      "# h_size = 50"
     ],
     "language": "python",
     "metadata": {},
     "outputs": [],
     "prompt_number": 2
    },
    {
     "cell_type": "code",
     "collapsed": true,
     "input": [
      "import mnist_utils as mu\n",
      "train_x, train_y = mu.get_train_data()\n",
      "train_x /=255.\n",
      "v_size = 794\n",
      "h_size = 500"
     ],
     "language": "python",
     "metadata": {},
     "outputs": [],
     "prompt_number": 3
    },
    {
     "cell_type": "code",
     "collapsed": false,
     "input": [
      "#weights initialization\n",
      "w_bound = 0.5 #0.3\n",
      "w_init = 0.1 #0.1\n",
      "# w = np.random.uniform(-w_init, w_init, (v_size, h_size)) \n",
      "w_offset = 0.05\n",
      "w = np.random.normal(w_offset, w_init, (v_size, h_size)) \n",
      "\n",
      "#LIF neuron parameters\n",
      "v_thresh = 1.   # membrane potential threshold\n",
      "v_rest = 0.     # resting potential\n",
      "tau_m = 20.     # membrane constant\n",
      "delay = 5       # synaptic delay\n",
      "\n",
      "#STDP config\n",
      "tau_stdp = 20   # STDP window length\n",
      "eta = 0.001  # learning rate\n",
      "delta_w = eta*np.logspace(0,1,tau_stdp)  #expenential decaying STDP curve\n",
      "\n",
      "\n",
      "\n",
      "run_len = 50      # Length of each trial\n",
      "teach_delay = 10  # Delay length of the teaching signal\n",
      "K = 30.\n",
      "record_flag = True #False"
     ],
     "language": "python",
     "metadata": {},
     "outputs": [],
     "prompt_number": 4
    },
    {
     "cell_type": "code",
     "collapsed": false,
     "input": [
      "# # Setting up the patterns to learn\n",
      "# patterns = list()\n",
      "# # # patterns.append([3,3,3,3,5,5,5,5,8,8,3,3,3,3,5,5,5,5,8,8])\n",
      "# # # patterns.append([2,2,2,2,2,8,8,8,8,8,2,2,2,2,2,8,8,8,8,8])\n",
      "# patterns.append([2,2,2,2,2,2,2,2,2,2,2,2,2,2,16,16,16,16,16,16,16]) #1,1,0 #16,16,16,16,16,16,16   #8,8,8,8,8,8,8\n",
      "# patterns.append([2,2,2,2,2,2,2,16,16,16,16,16,16,16,2,2,2,2,2,2,2]) #1,0,1\n",
      "# patterns.append([16,16,16,16,16,16,16,2,2,2,2,2,2,2,2,2,2,2,2,2,2]) #0,1,1\n",
      "\n",
      "# patterns = np.array(patterns)\n",
      "# print patterns.shape"
     ],
     "language": "python",
     "metadata": {},
     "outputs": [],
     "prompt_number": 5
    },
    {
     "cell_type": "code",
     "collapsed": false,
     "input": [
      "num_test = 10\n",
      "patterns = np.int16(np.floor((1.-train_x[:num_test])*K ))\n",
      "patterns_y = np.zeros((num_test, 10))\n",
      "patterns_y[range(num_test), np.int16(train_y[:num_test])] = 1.\n",
      "patterns_y = np.int16(np.floor((1.-patterns_y[:num_test])*K ))\n",
      "patterns = np.append(patterns,patterns_y, axis=1)\n"
     ],
     "language": "python",
     "metadata": {},
     "outputs": [],
     "prompt_number": 6
    },
    {
     "cell_type": "code",
     "collapsed": false,
     "input": [
      "epoch = 5 # training epochs\n",
      "\n",
      "# Recording of the neural status\n",
      "if record_flag:\n",
      "#     h_mem_list = []     # membrane potential of hiden units \n",
      "#     h_spike_list = []   # spikes of hiden units \n",
      "#     o_mem_list = []     # membrane potential of output units \n",
      "#     o_spike_list = []   # spikes of output units \n",
      "    w_list = []         # weights\n",
      "    loss_list = []\n",
      "    predict_list = []\n",
      "\n",
      "# Initialise neural status\n",
      "h_spike = np.zeros((h_size, run_len))   # no output spikes from hiden units \n",
      "o_spike = np.zeros((v_size, run_len))   # no output spikes from ouput units \n",
      "h_mem = np.zeros((h_size, 1))           # membrane potential=0 mV for hiden units \n",
      "o_mem = np.zeros((v_size, 1))           # membrane potential=0 mV for output units \n",
      "\n",
      "for iteration in range(epoch):\n",
      "    print 'epoch:%d'%iteration\n",
      "    for p_id in range(patterns.shape[0]):\n",
      "        # reset the neural status\n",
      "        h_mem[:] = v_rest\n",
      "        o_mem[:] = v_rest\n",
      "        h_spike[:,:] = v_rest\n",
      "        o_spike[:,:] = v_rest\n",
      "        \n",
      "        # the input spikes and the teaching signal\n",
      "        v_spike = np.zeros((v_size, run_len))\n",
      "        v_teach = np.zeros((v_size, run_len))\n",
      "        \n",
      "        v_pattern = np.copy(patterns[p_id,:])\n",
      "        \n",
      "        # add noise to the input signal\n",
      "#         v_pattern += np.random.normal(0, 0.1, v_pattern.shape)\n",
      "#         v_pattern[v_pattern<0] = 0\n",
      "        \n",
      "        v_spike[(range(v_size), v_pattern)]=1.\n",
      "        v_spike[:, K]=0.\n",
      "        v_teach[(range(v_size), np.array(v_pattern)+teach_delay)] = 1.\n",
      "        \n",
      "        # in the period of delay, nothing changed\n",
      "#         if record_flag:\n",
      "#             for t in range(delay):\n",
      "#                 h_mem_list.append(h_mem.copy())\n",
      "#                 h_spike_list.append(h_spike[:, t].copy())\n",
      "#                 o_mem_list.append(o_mem.copy())\n",
      "#                 o_spike_list.append(o_spike[:, t].copy())\n",
      "#                 w_list.append(w.flatten())\n",
      "            \n",
      "        # Main part for neural status updating\n",
      "        for t in range(delay,run_len):\n",
      "            # hid units\n",
      "            h_mem *= np.exp(-1/tau_m)   #decay\n",
      "            h_mem += np.reshape(np.dot(v_spike[:,t-delay],w),(h_mem.shape))  # add up spiking input\n",
      "            h_spike[(h_mem>v_thresh)[:,0], t] = 1.  #generate spikes\n",
      "            h_mem[(h_mem>v_thresh)] = v_rest        #reset membrane potential\n",
      "            #h_mem[(h_mem<v_rest)] = v_rest\n",
      "\n",
      "            \n",
      "            # output units\n",
      "            o_mem *= np.exp(-1/tau_m)\n",
      "            o_mem += np.reshape(np.dot(h_spike[:,t-delay],np.transpose(w)),(o_mem.shape))\n",
      "            o_spike[(o_mem>v_thresh)[:,0], t] = 1.\n",
      "            o_mem[(o_mem>v_thresh)] = v_rest\n",
      "            #o_mem[(o_mem<v_rest)] = v_rest\n",
      "\n",
      "\n",
      "            # t indicates the importance\n",
      "            impt = np.float(run_len-t+delay)/np.float(run_len)\n",
      "            \n",
      "            # weight updates\n",
      "            left_bound = max(t-tau_stdp+1-delay, 0)\n",
      "            if (o_spike[:, t]>0).any() or (v_teach[:, t]>0).any():\n",
      "                \n",
      "                # Look the spikes of hiden units for a time period of STDP window\n",
      "                temp_deltaw = np.einsum('jk,k->jk', h_spike[:, left_bound:t-delay+1], delta_w[left_bound-t+delay-1:])\n",
      "\n",
      "            # W-\n",
      "                w -= np.sum(np.einsum('i,jk->ijk', o_spike[:, t], temp_deltaw), axis=2)*impt #STDP\n",
      "                w[o_spike[:, t]>0, :] -= (eta*impt*0.1) # weights decrease even without STDP\n",
      "            # W+\n",
      "                w += np.sum(np.einsum('i,jk->ijk', v_teach[:, t], temp_deltaw), axis=2)*impt #STDP\n",
      "                w[v_teach[:, t]>0, :] += (eta*impt*0.1) # weights increase even without STDP\n",
      "\n",
      "                w[w>w_bound] = w_bound\n",
      "                w[w<-w_bound] = -w_bound\n",
      "            \n",
      "#             if record_flag:\n",
      "#                 h_mem_list.append(h_mem.copy())\n",
      "#                 h_spike_list.append(h_spike[:, t].copy())\n",
      "#                 o_mem_list.append(o_mem.copy())\n",
      "#                 o_spike_list.append(o_spike[:, t].copy())\n",
      "#                 w_list.append(w.flatten())\n",
      "        if np.mod(p_id,1)==0: #p_id == patterns.shape[0]-1:# and  np.mod(iteration,10) == 9: \n",
      "#             print iteration\n",
      "#             neuron_id, time_stamp = np.where(o_spike==1)\n",
      "#             plt.plot(time_stamp, neuron_id, '.')\n",
      "#             plt.xlim((0,run_len))\n",
      "#             plt.show()\n",
      "            \n",
      "            recon = (o_spike.argmax(axis=1)-teach_delay)*1.\n",
      "            \n",
      "            recon[recon>=0] = (K-recon[recon>=0])/K\n",
      "            recon[recon<0] = 0\n",
      "            \n",
      "            loss =  ((((K-patterns)/K)[p_id]-recon.flatten()) ** 2).mean()\n",
      "#             print 'Loss:', ((((K-patterns)/K)[p_id]-recon.flatten()) ** 2).mean()\n",
      "            \n",
      "            predict = np.argmax(recon[-10:]) \n",
      "\n",
      "#             print 'Predict: ', np.argmax(predict) \n",
      "#             print predict\n",
      "#             recon_img = np.reshape(recon[:-10], (28,28))\n",
      "#             plt.imshow(recon_img, cmap=cm.gray_r, clim=(0,1))\n",
      "#             plt.show()\n",
      "            if record_flag:\n",
      "                loss_list.append(loss)\n",
      "#                 predict_list.append(predict)\n",
      "#                 w_list.append(w.flatten())\n",
      "                w_list.append(w[-10:,:].flatten())\n",
      "                print p_id, '%0.3f'%loss, np.int16(train_y[p_id]), predict, '%.2f'%recon[-10+predict]\n",
      "    if np.mod(iteration,10) == 9:\n",
      "        delta_w *= 0.8"
     ],
     "language": "python",
     "metadata": {
      "scrolled": true
     },
     "outputs": [
      {
       "output_type": "stream",
       "stream": "stdout",
       "text": [
        "epoch:0\n",
        "0"
       ]
      },
      {
       "output_type": "stream",
       "stream": "stdout",
       "text": [
        " 0.839 5 0 1.00\n",
        "1"
       ]
      },
      {
       "output_type": "stream",
       "stream": "stdout",
       "text": [
        " 0.586 0 0 1.00\n",
        "2"
       ]
      },
      {
       "output_type": "stream",
       "stream": "stdout",
       "text": [
        " 0.205 4 7 0.93\n",
        "3"
       ]
      },
      {
       "output_type": "stream",
       "stream": "stdout",
       "text": [
        " 0.195 1 1 0.97\n",
        "4"
       ]
      },
      {
       "output_type": "stream",
       "stream": "stdout",
       "text": [
        " 0.297 9 3 1.00\n",
        "5"
       ]
      },
      {
       "output_type": "stream",
       "stream": "stdout",
       "text": [
        " 0.324 2 2 1.00\n",
        "6"
       ]
      },
      {
       "output_type": "stream",
       "stream": "stdout",
       "text": [
        " 0.125 1 1 1.00\n",
        "7"
       ]
      },
      {
       "output_type": "stream",
       "stream": "stdout",
       "text": [
        " 0.323 3 3 1.00\n",
        "8"
       ]
      },
      {
       "output_type": "stream",
       "stream": "stdout",
       "text": [
        " 0.050 1 0 0.00\n",
        "9"
       ]
      },
      {
       "output_type": "stream",
       "stream": "stdout",
       "text": [
        " 0.179 4 7 1.00\n",
        "epoch:1\n",
        "0"
       ]
      },
      {
       "output_type": "stream",
       "stream": "stdout",
       "text": [
        " 0.207 5 5 1.00\n",
        "1"
       ]
      },
      {
       "output_type": "stream",
       "stream": "stdout",
       "text": [
        " 0.155 0 0 1.00\n",
        "2"
       ]
      },
      {
       "output_type": "stream",
       "stream": "stdout",
       "text": [
        " 0.069 4 1 0.67\n",
        "3"
       ]
      },
      {
       "output_type": "stream",
       "stream": "stdout",
       "text": [
        " 0.096 1 1 0.93\n",
        "4"
       ]
      },
      {
       "output_type": "stream",
       "stream": "stdout",
       "text": [
        " 0.108 9 3 1.00\n",
        "5"
       ]
      },
      {
       "output_type": "stream",
       "stream": "stdout",
       "text": [
        " 0.159 2 2 1.00\n",
        "6"
       ]
      },
      {
       "output_type": "stream",
       "stream": "stdout",
       "text": [
        " 0.046 1 1 1.00\n",
        "7"
       ]
      },
      {
       "output_type": "stream",
       "stream": "stdout",
       "text": [
        " 0.118 3 3 1.00\n",
        "8"
       ]
      },
      {
       "output_type": "stream",
       "stream": "stdout",
       "text": [
        " 0.034 1 0 0.00\n",
        "9"
       ]
      },
      {
       "output_type": "stream",
       "stream": "stdout",
       "text": [
        " 0.142 4 7 1.00\n",
        "epoch:2\n",
        "0"
       ]
      },
      {
       "output_type": "stream",
       "stream": "stdout",
       "text": [
        " 0.117 5 5 1.00\n",
        "1"
       ]
      },
      {
       "output_type": "stream",
       "stream": "stdout",
       "text": [
        " 0.094 0 0 1.00\n",
        "2"
       ]
      },
      {
       "output_type": "stream",
       "stream": "stdout",
       "text": [
        " 0.069 4 4 0.47\n",
        "3"
       ]
      },
      {
       "output_type": "stream",
       "stream": "stdout",
       "text": [
        " 0.074 1 1 0.93\n",
        "4"
       ]
      },
      {
       "output_type": "stream",
       "stream": "stdout",
       "text": [
        " 0.081 9 9 0.93\n",
        "5"
       ]
      },
      {
       "output_type": "stream",
       "stream": "stdout",
       "text": [
        " 0.146 2 2 1.00\n",
        "6"
       ]
      },
      {
       "output_type": "stream",
       "stream": "stdout",
       "text": [
        " 0.021 1 1 1.00\n",
        "7"
       ]
      },
      {
       "output_type": "stream",
       "stream": "stdout",
       "text": [
        " 0.105 3 3 1.00\n",
        "8"
       ]
      },
      {
       "output_type": "stream",
       "stream": "stdout",
       "text": [
        " 0.032 1 1 0.70\n",
        "9"
       ]
      },
      {
       "output_type": "stream",
       "stream": "stdout",
       "text": [
        " 0.138 4 4 0.93\n",
        "epoch:3\n",
        "0"
       ]
      },
      {
       "output_type": "stream",
       "stream": "stdout",
       "text": [
        " 0.090 5 5 1.00\n",
        "1"
       ]
      },
      {
       "output_type": "stream",
       "stream": "stdout",
       "text": [
        " 0.116 0 0 1.00\n",
        "2"
       ]
      },
      {
       "output_type": "stream",
       "stream": "stdout",
       "text": [
        " 0.070 4 0 0.00\n",
        "3"
       ]
      },
      {
       "output_type": "stream",
       "stream": "stdout",
       "text": [
        " 0.057 1 1 1.00\n",
        "4"
       ]
      },
      {
       "output_type": "stream",
       "stream": "stdout",
       "text": [
        " 0.067 9 9 1.00\n",
        "5"
       ]
      },
      {
       "output_type": "stream",
       "stream": "stdout",
       "text": [
        " 0.109 2 2 1.00\n",
        "6"
       ]
      },
      {
       "output_type": "stream",
       "stream": "stdout",
       "text": [
        " 0.041 1 1 1.00\n",
        "7"
       ]
      },
      {
       "output_type": "stream",
       "stream": "stdout",
       "text": [
        " 0.086 3 3 1.00\n",
        "8"
       ]
      },
      {
       "output_type": "stream",
       "stream": "stdout",
       "text": [
        " 0.029 1 0 0.00\n",
        "9"
       ]
      },
      {
       "output_type": "stream",
       "stream": "stdout",
       "text": [
        " 0.120 4 7 1.00\n",
        "epoch:4\n",
        "0"
       ]
      },
      {
       "output_type": "stream",
       "stream": "stdout",
       "text": [
        " 0.067 5 5 1.00\n",
        "1"
       ]
      },
      {
       "output_type": "stream",
       "stream": "stdout",
       "text": [
        " 0.110 0 0 1.00\n",
        "2"
       ]
      },
      {
       "output_type": "stream",
       "stream": "stdout",
       "text": [
        " 0.073 4 4 0.97\n",
        "3"
       ]
      },
      {
       "output_type": "stream",
       "stream": "stdout",
       "text": [
        " 0.065 1 1 1.00\n",
        "4"
       ]
      },
      {
       "output_type": "stream",
       "stream": "stdout",
       "text": [
        " 0.056 9 9 1.00\n",
        "5"
       ]
      },
      {
       "output_type": "stream",
       "stream": "stdout",
       "text": [
        " 0.136 2 2 1.00\n",
        "6"
       ]
      },
      {
       "output_type": "stream",
       "stream": "stdout",
       "text": [
        " 0.031 1 1 1.00\n",
        "7"
       ]
      },
      {
       "output_type": "stream",
       "stream": "stdout",
       "text": [
        " 0.088 3 3 1.00\n",
        "8"
       ]
      },
      {
       "output_type": "stream",
       "stream": "stdout",
       "text": [
        " 0.026 1 0 0.00\n",
        "9"
       ]
      },
      {
       "output_type": "stream",
       "stream": "stdout",
       "text": [
        " 0.085 4 4 0.97\n"
       ]
      },
      {
       "output_type": "stream",
       "stream": "stderr",
       "text": [
        "-c:39: VisibleDeprecationWarning: using a non-integer number instead of an integer will result in an error in the future\n"
       ]
      }
     ],
     "prompt_number": 7
    },
    {
     "cell_type": "code",
     "collapsed": false,
     "input": [
      "# plt.plot(loss_list)\n",
      "avg_num = 10\n",
      "img_num = len(loss_list)\n",
      "loss_plot = np.reshape(np.array(loss_list), (img_num/avg_num, avg_num))\n",
      "plt.semilogy(np.average(loss_plot,axis=1))\n",
      "plt.title('Loss (MSE)')\n"
     ],
     "language": "python",
     "metadata": {},
     "outputs": [
      {
       "metadata": {},
       "output_type": "pyout",
       "prompt_number": 8,
       "text": [
        "<matplotlib.text.Text at 0x7fc929b8c450>"
       ]
      },
      {
       "metadata": {},
       "output_type": "display_data",
       "png": "[encoded data removed]",
       "text": [
        "<matplotlib.figure.Figure at 0x7fc929f0dfd0>"
       ]
      }
     ],
     "prompt_number": 8
    },
    {
     "cell_type": "code",
     "collapsed": false,
     "input": [
      "w_list = np.array(w_list)\n",
      "plt.plot(w_list[:,::10])\n",
      "print w_list.shape"
     ],
     "language": "python",
     "metadata": {},
     "outputs": [
      {
       "output_type": "stream",
       "stream": "stdout",
       "text": [
        "(50, 5000)\n"
       ]
      },
      {
       "metadata": {},
       "output_type": "display_data",
       "png": "[encoded data removed]",
       "text": [
        "<matplotlib.figure.Figure at 0x7fc929f0dc10>"
       ]
      }
     ],
     "prompt_number": 9
    }
   ],
   "metadata": {}
  }
 ]
}